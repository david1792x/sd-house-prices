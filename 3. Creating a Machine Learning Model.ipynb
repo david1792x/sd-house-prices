{
 "cells": [
  {
   "cell_type": "markdown",
   "metadata": {},
   "source": [
    "## **Modelling our data with machine learning**\n",
    "\n",
    "Once our data is cleaned, we can move over to preprocessing it and creating a model for predictions. We are looking to build a supervised machine learning model that solves a regression task by inputting tabular data.\n",
    "\n",
    "To start off, we import the required modules and create a preprocessing pipeline that takes our clean dataset and transforms it to a model-friendly representation. To do this, we separate our data into numerical and categorical features, which will be treated differently by our preprocessing pipeline with the help of a scikit-learn ColumnTransformer. The numerical features will be passed through unchanged, since we will use a tree-based model (XGBoost) that does not require feature scaling (standarization), and the only thing we need to do is encode our categorical data using One-Hot encoding. We encode the home type and city variables to finish our preprocessor transformer."
   ]
  },
  {
   "cell_type": "code",
   "execution_count": 130,
   "metadata": {},
   "outputs": [],
   "source": [
    "# Import required modules\n",
    "import numpy as np\n",
    "import pandas as pd\n",
    "from sklearn.preprocessing import OneHotEncoder\n",
    "from sklearn.pipeline import Pipeline\n",
    "from sklearn.compose import ColumnTransformer\n",
    "from sklearn import set_config\n",
    "set_config(transform_output = \"pandas\")\n",
    "\n",
    "# Create preprocessing pipeline\n",
    "numeric_features = ['bedrooms', 'bathrooms', 'livingArea', 'longitude', 'latitude']\n",
    "categorical_features = ['homeType', 'city']\n",
    "preprocessor = ColumnTransformer([('ohe', OneHotEncoder(sparse_output= False), categorical_features),\n",
    "                                  ('passthrough', 'passthrough' , numeric_features)],\n",
    "                                remainder = 'drop')"
   ]
  },
  {
   "cell_type": "markdown",
   "metadata": {},
   "source": [
    "Now, we can move over to making our final pipeline, which connects our preprocessor to an estimator that will learn the underlying patterns in the data and output a price prediction. We will use an extreme gradient boosting tree model, since it is one of the best performing models when working with tabular data, whose hyperparameters have been tuned using cross-validation."
   ]
  },
  {
   "cell_type": "code",
   "execution_count": null,
   "metadata": {},
   "outputs": [],
   "source": [
    "# Import ML libraries\n",
    "from xgboost import XGBRegressor\n",
    "from sklearn.model_selection import KFold, train_test_split\n",
    "from sklearn.metrics import mean_absolute_error, mean_squared_error, r2_score\n",
    "\n",
    "# Create pipeline of preprocessing and model (XGBoost with tuned hyperparameters)\n",
    "pipeline = Pipeline([('preprocessor', preprocessor), ('estimator', XGBRegressor(learning_rate = 0.1, max_depth = 7, n_estimators = 200, reg_lambda = 0.1, reg_alpha = 0.1))])"
   ]
  },
  {
   "cell_type": "markdown",
   "metadata": {},
   "source": [
    "Now that we have defined the complete model pipeline, we can train and test the model using cross validation and assess the quality of the model's performance. We will use the mean absolute error, root mean square error, and R² value to rate our model's performance."
   ]
  },
  {
   "cell_type": "code",
   "execution_count": 187,
   "metadata": {},
   "outputs": [
    {
     "name": "stdout",
     "output_type": "stream",
     "text": [
      "Mean Absolute Error:  146246.19434381404\n",
      "Root Mean Squared Error:  247346.50659278594\n",
      "R2 Score:  0.8641549692006647\n"
     ]
    }
   ],
   "source": [
    "# Split data into features and target\n",
    "X = df.drop('price', axis=1)\n",
    "y = df['price']\n",
    "\n",
    "# Test model performance with 5-fold cross validation\n",
    "kf = KFold(n_splits=5, shuffle=True, random_state=42)\n",
    "mae = []\n",
    "rmse = []\n",
    "r2 = []\n",
    "for train_index, test_index in kf.split(X):\n",
    "    X_train, X_test = X.iloc[train_index], X.iloc[test_index]\n",
    "    y_train, y_test = y.iloc[train_index], y.iloc[test_index]\n",
    "    pipeline.fit(X_train, y_train)\n",
    "    y_pred = pipeline.predict(X_test)\n",
    "    mae.append(mean_absolute_error(y_test, y_pred))\n",
    "    rmse.append(np.sqrt(mean_squared_error(y_test, y_pred)))\n",
    "    r2.append(r2_score(y_test, y_pred))\n",
    "\n",
    "print('Mean Absolute Error: ', np.mean(mae))\n",
    "print('Root Mean Squared Error: ', np.mean(rmse))\n",
    "print('R2 Score: ', np.mean(r2))"
   ]
  },
  {
   "cell_type": "markdown",
   "metadata": {},
   "source": [
    "The mean absolute error shows the mean difference between actual and predicted price, while the root mean squared error shows the square root of the differences of the squared values (penalizes large differences). We can see that the mean of the cross validated errors are \\\\$146,246 for the mean absolute error, and \\\\$247,346 for the mean squared error. This errors are calculated across all price ranges, so they are most notable in high value homes, as we will see further on. The R² value is one of the most important metrics for quantifying our model performance, and it describes how much of the variance in the price can be attributed to the predictor variables that our model used. In this case, R² is 0.864, which tells us that our model is capable of explaining 86.4% of the variance in house price, which is pretty high."
   ]
  },
  {
   "cell_type": "markdown",
   "metadata": {},
   "source": [
    "Now, we will split our data into a training (80%) and testing (20%) set, train the model on the training set, and predict the prices on the testing set. As we can see, the predicted price is pretty close to the actual price on most examples, and while there is a variation, it is small in proportion across all data ranges."
   ]
  },
  {
   "cell_type": "code",
   "execution_count": 190,
   "metadata": {},
   "outputs": [
    {
     "data": {
      "text/html": [
       "<div>\n",
       "<style scoped>\n",
       "    .dataframe tbody tr th:only-of-type {\n",
       "        vertical-align: middle;\n",
       "    }\n",
       "\n",
       "    .dataframe tbody tr th {\n",
       "        vertical-align: top;\n",
       "    }\n",
       "\n",
       "    .dataframe thead th {\n",
       "        text-align: right;\n",
       "    }\n",
       "</style>\n",
       "<table border=\"1\" class=\"dataframe\">\n",
       "  <thead>\n",
       "    <tr style=\"text-align: right;\">\n",
       "      <th></th>\n",
       "      <th>Actual</th>\n",
       "      <th>Predicted</th>\n",
       "    </tr>\n",
       "  </thead>\n",
       "  <tbody>\n",
       "    <tr>\n",
       "      <th>751</th>\n",
       "      <td>558500</td>\n",
       "      <td>546432</td>\n",
       "    </tr>\n",
       "    <tr>\n",
       "      <th>7094</th>\n",
       "      <td>631000</td>\n",
       "      <td>548060</td>\n",
       "    </tr>\n",
       "    <tr>\n",
       "      <th>7153</th>\n",
       "      <td>795000</td>\n",
       "      <td>770689</td>\n",
       "    </tr>\n",
       "    <tr>\n",
       "      <th>17846</th>\n",
       "      <td>590000</td>\n",
       "      <td>511749</td>\n",
       "    </tr>\n",
       "    <tr>\n",
       "      <th>9375</th>\n",
       "      <td>740105</td>\n",
       "      <td>669186</td>\n",
       "    </tr>\n",
       "    <tr>\n",
       "      <th>5126</th>\n",
       "      <td>759000</td>\n",
       "      <td>748256</td>\n",
       "    </tr>\n",
       "    <tr>\n",
       "      <th>11709</th>\n",
       "      <td>1000000</td>\n",
       "      <td>1025955</td>\n",
       "    </tr>\n",
       "    <tr>\n",
       "      <th>18650</th>\n",
       "      <td>750000</td>\n",
       "      <td>654058</td>\n",
       "    </tr>\n",
       "    <tr>\n",
       "      <th>1242</th>\n",
       "      <td>1039000</td>\n",
       "      <td>922971</td>\n",
       "    </tr>\n",
       "    <tr>\n",
       "      <th>12811</th>\n",
       "      <td>1530000</td>\n",
       "      <td>1355266</td>\n",
       "    </tr>\n",
       "  </tbody>\n",
       "</table>\n",
       "</div>"
      ],
      "text/plain": [
       "        Actual  Predicted\n",
       "751     558500     546432\n",
       "7094    631000     548060\n",
       "7153    795000     770689\n",
       "17846   590000     511749\n",
       "9375    740105     669186\n",
       "5126    759000     748256\n",
       "11709  1000000    1025955\n",
       "18650   750000     654058\n",
       "1242   1039000     922971\n",
       "12811  1530000    1355266"
      ]
     },
     "execution_count": 190,
     "metadata": {},
     "output_type": "execute_result"
    }
   ],
   "source": [
    "# Predict on test set and compare to actual values\n",
    "X_train, X_test, y_train, y_test = train_test_split(X, y, test_size=0.2, random_state=3)\n",
    "pipeline.fit(X_train, y_train)\n",
    "y_pred = pipeline.predict(X_test)\n",
    "predictions = pd.DataFrame({'Actual': y_test, 'Predicted': y_pred}).astype(int)\n",
    "predictions.head(10)"
   ]
  },
  {
   "cell_type": "markdown",
   "metadata": {},
   "source": [
    "Something interesting that we can extract from our model, since it is tree-based, is the importance of the features in determining a prediction. The most important factor in determining house price is whether the house is a mobile home (manufactured) or not. After that, the living area is the second most important factor, and after those two, the city or location of the house is the next factor to take into account. Some areas like Coronado, Clairemont and La Jolla, among others, have a clearer price range than other areas."
   ]
  },
  {
   "cell_type": "code",
   "execution_count": 189,
   "metadata": {},
   "outputs": [
    {
     "data": {
      "text/html": [
       "<div>\n",
       "<style scoped>\n",
       "    .dataframe tbody tr th:only-of-type {\n",
       "        vertical-align: middle;\n",
       "    }\n",
       "\n",
       "    .dataframe tbody tr th {\n",
       "        vertical-align: top;\n",
       "    }\n",
       "\n",
       "    .dataframe thead th {\n",
       "        text-align: right;\n",
       "    }\n",
       "</style>\n",
       "<table border=\"1\" class=\"dataframe\">\n",
       "  <thead>\n",
       "    <tr style=\"text-align: right;\">\n",
       "      <th></th>\n",
       "      <th>importance</th>\n",
       "    </tr>\n",
       "  </thead>\n",
       "  <tbody>\n",
       "    <tr>\n",
       "      <th>ohe__homeType_MANUFACTURED</th>\n",
       "      <td>0.190955</td>\n",
       "    </tr>\n",
       "    <tr>\n",
       "      <th>passthrough__livingArea</th>\n",
       "      <td>0.125039</td>\n",
       "    </tr>\n",
       "    <tr>\n",
       "      <th>ohe__city_Coronado</th>\n",
       "      <td>0.115405</td>\n",
       "    </tr>\n",
       "    <tr>\n",
       "      <th>ohe__city_Clairemont</th>\n",
       "      <td>0.087133</td>\n",
       "    </tr>\n",
       "    <tr>\n",
       "      <th>ohe__city_Carlsbad</th>\n",
       "      <td>0.072721</td>\n",
       "    </tr>\n",
       "    <tr>\n",
       "      <th>ohe__city_Poway</th>\n",
       "      <td>0.047217</td>\n",
       "    </tr>\n",
       "    <tr>\n",
       "      <th>passthrough__latitude</th>\n",
       "      <td>0.045832</td>\n",
       "    </tr>\n",
       "    <tr>\n",
       "      <th>passthrough__longitude</th>\n",
       "      <td>0.045093</td>\n",
       "    </tr>\n",
       "    <tr>\n",
       "      <th>ohe__city_La Jolla</th>\n",
       "      <td>0.037546</td>\n",
       "    </tr>\n",
       "    <tr>\n",
       "      <th>ohe__city_Rancho Santa Fe</th>\n",
       "      <td>0.026697</td>\n",
       "    </tr>\n",
       "  </tbody>\n",
       "</table>\n",
       "</div>"
      ],
      "text/plain": [
       "                            importance\n",
       "ohe__homeType_MANUFACTURED    0.190955\n",
       "passthrough__livingArea       0.125039\n",
       "ohe__city_Coronado            0.115405\n",
       "ohe__city_Clairemont          0.087133\n",
       "ohe__city_Carlsbad            0.072721\n",
       "ohe__city_Poway               0.047217\n",
       "passthrough__latitude         0.045832\n",
       "passthrough__longitude        0.045093\n",
       "ohe__city_La Jolla            0.037546\n",
       "ohe__city_Rancho Santa Fe     0.026697"
      ]
     },
     "execution_count": 189,
     "metadata": {},
     "output_type": "execute_result"
    }
   ],
   "source": [
    "# Get feature importances from model\n",
    "feature_importances = pd.DataFrame(pipeline['estimator'].feature_importances_, index = pipeline['preprocessor'].get_feature_names_out(), columns=['importance']).sort_values('importance', ascending=False)\n",
    "feature_importances.head(10)"
   ]
  },
  {
   "cell_type": "markdown",
   "metadata": {},
   "source": [
    "Finally, we can use our model to predict house prices of synthetic, or made up data. We define three different homes, two regular single family homes, and one mobile home, located in Chula Vista, La Jolla and Poway respectively. The living area is chosen according to the selected number of bedrooms and bathrooms and the coordinates are taken from the mean values of the chosen zone. These three homes describe homes at an expected medium, high and low price ranges respectively"
   ]
  },
  {
   "cell_type": "code",
   "execution_count": 129,
   "metadata": {},
   "outputs": [
    {
     "data": {
      "text/html": [
       "<div>\n",
       "<style scoped>\n",
       "    .dataframe tbody tr th:only-of-type {\n",
       "        vertical-align: middle;\n",
       "    }\n",
       "\n",
       "    .dataframe tbody tr th {\n",
       "        vertical-align: top;\n",
       "    }\n",
       "\n",
       "    .dataframe thead th {\n",
       "        text-align: right;\n",
       "    }\n",
       "</style>\n",
       "<table border=\"1\" class=\"dataframe\">\n",
       "  <thead>\n",
       "    <tr style=\"text-align: right;\">\n",
       "      <th></th>\n",
       "      <th>bedrooms</th>\n",
       "      <th>bathrooms</th>\n",
       "      <th>livingArea</th>\n",
       "      <th>homeType</th>\n",
       "      <th>city</th>\n",
       "      <th>longitude</th>\n",
       "      <th>latitude</th>\n",
       "      <th>predictedPrice</th>\n",
       "    </tr>\n",
       "  </thead>\n",
       "  <tbody>\n",
       "    <tr>\n",
       "      <th>0</th>\n",
       "      <td>3</td>\n",
       "      <td>2</td>\n",
       "      <td>1750</td>\n",
       "      <td>SINGLE_FAMILY</td>\n",
       "      <td>Chula Vista</td>\n",
       "      <td>-117.0032</td>\n",
       "      <td>32.6277</td>\n",
       "      <td>824026</td>\n",
       "    </tr>\n",
       "    <tr>\n",
       "      <th>1</th>\n",
       "      <td>5</td>\n",
       "      <td>3</td>\n",
       "      <td>3500</td>\n",
       "      <td>SINGLE_FAMILY</td>\n",
       "      <td>La Jolla</td>\n",
       "      <td>-117.1692</td>\n",
       "      <td>32.6769</td>\n",
       "      <td>3333409</td>\n",
       "    </tr>\n",
       "    <tr>\n",
       "      <th>2</th>\n",
       "      <td>2</td>\n",
       "      <td>2</td>\n",
       "      <td>1500</td>\n",
       "      <td>MANUFACTURED</td>\n",
       "      <td>Poway</td>\n",
       "      <td>-117.0407</td>\n",
       "      <td>32.9766</td>\n",
       "      <td>293514</td>\n",
       "    </tr>\n",
       "  </tbody>\n",
       "</table>\n",
       "</div>"
      ],
      "text/plain": [
       "   bedrooms  bathrooms  livingArea       homeType         city  longitude  \\\n",
       "0         3          2        1750  SINGLE_FAMILY  Chula Vista  -117.0032   \n",
       "1         5          3        3500  SINGLE_FAMILY     La Jolla  -117.1692   \n",
       "2         2          2        1500   MANUFACTURED        Poway  -117.0407   \n",
       "\n",
       "   latitude  predictedPrice  \n",
       "0   32.6277          824026  \n",
       "1   32.6769         3333409  \n",
       "2   32.9766          293514  "
      ]
     },
     "execution_count": 129,
     "metadata": {},
     "output_type": "execute_result"
    }
   ],
   "source": [
    "# Predict house prices on synthetic data\n",
    "synthetic_data = pd.DataFrame({'bedrooms': [3, 5, 2],\n",
    "                                'bathrooms': [2, 3, 2],\n",
    "                                'livingArea': [1750, 3500, 1500],\n",
    "                                'homeType': ['SINGLE_FAMILY', 'SINGLE_FAMILY', 'MANUFACTURED'],\n",
    "                                'city': ['Chula Vista', 'La Jolla', 'Poway'],\n",
    "                                'longitude': [-117.0032, -117.1692, -117.0407],\n",
    "                                'latitude': [32.6277, 32.6769, 32.9766]})\n",
    "\n",
    "synthetic_data['predictedPrice'] = pipeline.predict(synthetic_data).astype(int)\n",
    "synthetic_data"
   ]
  },
  {
   "cell_type": "markdown",
   "metadata": {},
   "source": [
    "The model predicted a price of \\\\$824,026 for the medium priced home, \\\\$3,333,409 for the expensive home, and \\$293,514 for the cheap home. These results are comparable to the actual house prices of real, similar home. The final step is to save our model in order to create a simple web app that allows a user to input the required data, and returns a price estimate for that home."
   ]
  },
  {
   "cell_type": "code",
   "execution_count": null,
   "metadata": {},
   "outputs": [],
   "source": [
    "# Save model as pickle file\n",
    "import pickle\n",
    "file_name = 'sd_pipeline.pkl'\n",
    "pickle.dump(pipeline, open(file_name, 'wb'))"
   ]
  },
  {
   "cell_type": "markdown",
   "metadata": {},
   "source": [
    "Now, we can open our model using Streamlit and make predictions with the saved pipeline using data with the same format as the one used to train it."
   ]
  }
 ],
 "metadata": {
  "kernelspec": {
   "display_name": "Python 3 (ipykernel)",
   "language": "python",
   "name": "python3"
  },
  "language_info": {
   "codemirror_mode": {
    "name": "ipython",
    "version": 3
   },
   "file_extension": ".py",
   "mimetype": "text/x-python",
   "name": "python",
   "nbconvert_exporter": "python",
   "pygments_lexer": "ipython3",
   "version": "3.11.2"
  }
 },
 "nbformat": 4,
 "nbformat_minor": 2
}
